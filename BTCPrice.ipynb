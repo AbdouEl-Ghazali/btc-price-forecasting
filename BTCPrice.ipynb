{
 "cells": [
  {
   "cell_type": "markdown",
   "id": "b0f22f64",
   "metadata": {},
   "source": [
    "# Bitcoin Price Forecast with LSTM by Abdou El-Ghazali\n",
    "\n",
    "\n",
    "## Table of Contents\n",
    "\n",
    "- Introduction\n",
    "- Data Collection\n",
    "- Creating our Timeseries\n",
    "    - Moving Averages\n",
    "    - Deltas\n",
    "- The Model\n",
    "    - Creating Batches\n",
    "    - Normalization\n",
    "    - Creating and Training the Model\n",
    "- Results\n",
    "- Analysis\n",
    "\n",
    "## Introduction\n",
    "\n",
    "Recurrent Neural Network (RNN) architectures such as Long Short-Term Memory (LSTM) can be useful in time series forecasting. LSTM, when compared to other neural network architectures, improves a model's ability to remember special events that may influence future outcomes. This can be useful for time series with unknown delays between event occurences and their outcomes.\n",
    "\n",
    "One possible usecase for LSTM is Bitcoin price forecasting. Technical analysis is commonly used for trading and/or investing in Bitcoin. The general notion is that recent price action can be used to forecast the price of Bitcoin in the near future. In greater detail, special chart formations are said to be useful in predicting future price action. This project aims to explore that idea at an abstract level. Using basic technical indicators such as the simple and the exponential moving averages for price, as well as for volume, we hope to see a correlation between Bitcoin's past and near future price action. That is to say, a successful prediction will take the 50 most recent hours of indicator data, and predict the next 1 hour of Bitcoin's price.\n",
    "\n",
    "Disclaimer: This project is for learning purposes only. This model and any forecasts it may provide should not influence your decision in trading/investing in Bitcoin."
   ]
  },
  {
   "cell_type": "markdown",
   "id": "91bbe664",
   "metadata": {},
   "source": [
    "## Data Collection\n",
    "\n",
    "We will be collecting our market data using [CoinAPI's](https://www.coinapi.io/) free trial. This service allows us to collect periodic market data for various cryptocurrencies. We will use it to collect hourly price, volume, and transaction data for Bitcoin. Our data will be a timeseries beginning in August 2017, and ending in September 2022. It is unknown whether the dates chosen will influence our model's ability to forecast price action. "
   ]
  },
  {
   "cell_type": "code",
   "execution_count": 1,
   "id": "b3b9dd92",
   "metadata": {},
   "outputs": [],
   "source": [
    "import json\n",
    "import datetime as dt\n",
    "import numpy as np\n",
    "import pandas as pd\n",
    "import requests"
   ]
  },
  {
   "cell_type": "code",
   "execution_count": 2,
   "id": "5c2e9c3d",
   "metadata": {},
   "outputs": [],
   "source": [
    "with open('secrets.json') as f: # Local secrets file\n",
    "    secrets = json.load(f)"
   ]
  },
  {
   "cell_type": "code",
   "execution_count": 3,
   "id": "2eabec43",
   "metadata": {},
   "outputs": [
    {
     "name": "stdout",
     "output_type": "stream",
     "text": [
      "Collecting from: 2009-12-20T00:00:00\n",
      "To: 2022-09-15T00:00:00\n"
     ]
    }
   ],
   "source": [
    "time_start = dt.datetime(2009, 12, 20, 0, 0).isoformat() # Converting to ISO 8601 format\n",
    "time_end = dt.datetime(2022, 9, 15, 0, 0).isoformat()\n",
    "\n",
    "print(\"Collecting from: \" + str(time_start))\n",
    "print(\"To: \" + str(time_end))\n",
    "\n",
    "url = \"https://rest.coinapi.io/v1/ohlcv/BINANCE_SPOT_BTC_USDT/history?period_id=1HRS&time_start=\" + time_start + \"&time_end=\" + time_end + \"&limit=100000\"\n",
    "headers = {\"X-CoinAPI-Key\" : secrets['coin_api']}\n",
    "\n",
    "try:\n",
    "    response = requests.get(url, headers = headers)\n",
    "    coin_data = json.loads(response.text)\n",
    "    btc_data = pd.DataFrame(coin_data)\n",
    "    \n",
    "except (RuntimeError, TypeError, NameError) as err:\n",
    "    print(err)\n",
    "except ValueError:\n",
    "    print(coin_data)"
   ]
  },
  {
   "cell_type": "code",
   "execution_count": 4,
   "id": "7a08db6f",
   "metadata": {
    "scrolled": true
   },
   "outputs": [],
   "source": [
    "# print(btc_data.head())\n",
    "# print(btc_data.tail())"
   ]
  },
  {
   "cell_type": "code",
   "execution_count": 5,
   "id": "9f8326a6",
   "metadata": {},
   "outputs": [],
   "source": [
    "btc_data_close_indexed = btc_data.set_index(pd.DatetimeIndex(btc_data[\"time_close\"])) # Set close time as index"
   ]
  },
  {
   "cell_type": "markdown",
   "id": "956e2032",
   "metadata": {},
   "source": [
    "## Creating Our Timeseries\n",
    "\n",
    "Our timeseries will consist of various technical analysis-type indicators such as: \n",
    " - price\n",
    " - moving averages (simple and exponential)\n",
    " - volume\n",
    " - trade count \n",
    "\n",
    "Though one hour's close value is typically the same as the next hour's open value, it is important to note that we are using the hourly close data provided.\n",
    " \n",
    "We will also engineer a feature called \"delta\" which takes various indicators and returns their difference. This engineered feature will help our model determine Bitcoin's price equilibrium. Say, for example, the Bitcoin price's 7 hour moving average is far below the 200 hour moving average - this will be apparent in the relevant delta value and may indicate that Bitcoin is oversold; a condition that is said to create \"bullish sentiment\". In general, all of our model's delta features will be at equilibrium at 0 value. We will create deltas for Bitcoin's price, moving averages, as well as trade volume."
   ]
  },
  {
   "cell_type": "markdown",
   "id": "a9b28f2d",
   "metadata": {},
   "source": [
    "### Moving Averages"
   ]
  },
  {
   "cell_type": "code",
   "execution_count": 6,
   "id": "faf378eb",
   "metadata": {},
   "outputs": [],
   "source": [
    "def movingAverage(a, window_size): # Input: series, int\n",
    "    return a.rolling(window_size).mean()\n",
    "\n",
    "def exponentialMovingAverage(a, window_size): # Input: series, int\n",
    "    return round(a.ewm(span=window_size, min_periods=window_size, adjust=False).mean(), 2)\n",
    "\n",
    "# Create a series of moving averages\n",
    "btc_data_close_indexed[\"ma_7\"] = movingAverage(btc_data_close_indexed[\"price_close\"], 7)\n",
    "btc_data_close_indexed[\"ma_50\"] = movingAverage(btc_data_close_indexed[\"price_close\"], 50)\n",
    "btc_data_close_indexed[\"ma_200\"] = movingAverage(btc_data_close_indexed[\"price_close\"], 200)\n",
    "btc_data_close_indexed[\"ema_7\"] = exponentialMovingAverage(btc_data_close_indexed[\"price_close\"], 7)\n",
    "btc_data_close_indexed[\"ema_50\"] = exponentialMovingAverage(btc_data_close_indexed[\"price_close\"], 50)\n",
    "btc_data_close_indexed[\"ema_200\"] = exponentialMovingAverage(btc_data_close_indexed[\"price_close\"], 200)\n",
    "btc_data_close_indexed[\"vol_7\"] = exponentialMovingAverage(btc_data_close_indexed[\"volume_traded\"], 7)\n",
    "btc_data_close_indexed[\"vol_50\"] = exponentialMovingAverage(btc_data_close_indexed[\"volume_traded\"], 50)\n",
    "btc_data_close_indexed[\"vol_200\"] = exponentialMovingAverage(btc_data_close_indexed[\"volume_traded\"], 200)\n",
    "\n",
    "# print(btc_data_close_indexed.head()) # First entries will always be Nan for a moving average\n",
    "# print(btc_data_close_indexed.tail())"
   ]
  },
  {
   "cell_type": "markdown",
   "id": "c9c2cfc7",
   "metadata": {},
   "source": [
    "### Deltas"
   ]
  },
  {
   "cell_type": "code",
   "execution_count": 7,
   "id": "861aec46",
   "metadata": {
    "scrolled": true
   },
   "outputs": [],
   "source": [
    "# Creating a series of price deltas\n",
    "df = btc_data_close_indexed[[\"price_close\", \"volume_traded\", \"trades_count\", \n",
    "                             \"ma_7\", \"ma_50\", \"ma_200\", \n",
    "                             \"ema_7\", \"ema_50\", \"ema_200\",\n",
    "                             \"vol_7\", \"vol_50\", \"vol_200\"]].dropna() # Dropping empty entries (byproduct of moving averages)\n",
    "\n",
    "df[\"delta_7\"] = df[\"price_close\"] - df[\"ema_7\"] # Price difference between the close and the 7 EMA\n",
    "df[\"delta_50\"] = df[\"price_close\"] - df[\"ema_50\"]\n",
    "df[\"delta_200\"] = df[\"price_close\"] - df[\"ema_200\"]\n",
    "\n",
    "df[\"delta_7_50\"] = df[\"ema_7\"] - df[\"ema_50\"] # Price difference between the 7 and 50 EMA\n",
    "df[\"delta_7_200\"] = df[\"ema_7\"] - df[\"ema_200\"]\n",
    "df[\"delta_50_200\"] = df[\"ema_50\"] - df[\"ema_200\"]\n",
    "\n",
    "# print(df.head())"
   ]
  },
  {
   "cell_type": "code",
   "execution_count": 8,
   "id": "48d2f46b",
   "metadata": {},
   "outputs": [],
   "source": [
    "df.to_csv(\"btc_data.csv\") # Saving our timeseries"
   ]
  },
  {
   "cell_type": "markdown",
   "id": "4035d7ac",
   "metadata": {},
   "source": [
    "## The Model\n",
    "\n",
    "Our data is almost ready. First, we need to split our data into batches. In other words, we must create a timeseries consisting of many batches of 50 timesteps as input and 1 timestep as an output. Here, we can make choices as to how the batches are collected. For example, if a timestep is used in one batch, should it be reused in another? For more detail, check out [sequence length and sequence stride](https://www.tensorflow.org/api_docs/python/tf/keras/utils/timeseries_dataset_from_array). For our model, we chose to include each timestep in about two batches. That is to say, we set the sequence stride to be half of the sample length.\n",
    "- Sample length/Batch size = 50 hours\n",
    "- Sequence length = 50 hours\n",
    "- Sequence stride = 25 hours\n",
    "\n",
    "Next, we need to normalize our data so that the model can comprehend it more easily. For this step, we simply use sklearn's preprocessing tools ([MinMaxScaler](https://scikit-learn.org/stable/modules/generated/sklearn.preprocessing.MinMaxScaler.html)). In order to make sense of our data later on, we must keep track of the scaler values used."
   ]
  },
  {
   "cell_type": "code",
   "execution_count": 9,
   "id": "fb58d062",
   "metadata": {},
   "outputs": [],
   "source": [
    "import numpy as np\n",
    "import pandas as pd\n",
    "import tensorflow as tf\n",
    "\n",
    "from sklearn.model_selection import train_test_split\n",
    "\n",
    "df = pd.read_csv(\"btc_data.csv\", parse_dates=True, index_col=0)\n",
    "data = df.dropna().to_numpy().astype(int)\n",
    "\n",
    "# print(np.shape(data))"
   ]
  },
  {
   "cell_type": "markdown",
   "id": "3f3bde78",
   "metadata": {},
   "source": [
    "### Creating Batches"
   ]
  },
  {
   "cell_type": "code",
   "execution_count": 10,
   "id": "ec9a8d41",
   "metadata": {},
   "outputs": [],
   "source": [
    "sample_length = 50 # Given the last 50 timeperiods, predict the next timeperiod\n",
    "batch_size = np.floor(len(data)/sample_length)\n",
    "\n",
    "input_data = data[:-(sample_length)]\n",
    "targets = data[sample_length:]\n",
    "dataset = tf.keras.preprocessing.timeseries_dataset_from_array(input_data, \n",
    "                                                               targets, \n",
    "                                                               sequence_length=sample_length,\n",
    "                                                               sequence_stride=sample_length/2,\n",
    "                                                               batch_size=len(data)\n",
    "                                                              )\n",
    "\n",
    "for batch in dataset:\n",
    "    x, y = batch\n",
    "    assert np.array_equal(x[0], data[:sample_length])  # First sequence: steps [0-9]\n",
    "    assert np.array_equal(y[0], data[sample_length])  # Corresponding target: step 10\n",
    "    break"
   ]
  },
  {
   "cell_type": "code",
   "execution_count": 11,
   "id": "79255737",
   "metadata": {},
   "outputs": [
    {
     "name": "stdout",
     "output_type": "stream",
     "text": [
      "(1763, 50, 18)\n",
      "(1763, 1)\n"
     ]
    }
   ],
   "source": [
    "x = x\n",
    "y = y[:,:1]\n",
    "print(np.shape(x))\n",
    "print(np.shape(y))"
   ]
  },
  {
   "cell_type": "markdown",
   "id": "2738a5c5",
   "metadata": {},
   "source": [
    "### Normalization"
   ]
  },
  {
   "cell_type": "code",
   "execution_count": 12,
   "id": "dba6bc0d",
   "metadata": {},
   "outputs": [],
   "source": [
    "# data normalization with sklearn\n",
    "from sklearn.preprocessing import MinMaxScaler, RobustScaler\n",
    "\n",
    "def descale(a, scaler_values):\n",
    "    transpose = np.copy(a).T\n",
    "    \n",
    "    if len(a.shape) == 3:\n",
    "        for i, row in enumerate(transpose):\n",
    "            transpose[i] = scaler_values[i].inverse_transform(row)\n",
    "    elif len(a.shape) == 2:\n",
    "        transpose = scaler_values.inverse_transform(transpose) # fit scaler on training data\n",
    "    else:\n",
    "        print(\"Descale Shape Error.\")\n",
    "        print(len(a.shape))\n",
    "        \n",
    "    return np.asarray(transpose.T, dtype=int)\n",
    "\n",
    "def scaleValues(array, scaler_values):\n",
    "    def scale(a, scaler_values):\n",
    "        transpose = np.copy(a).T\n",
    "        if len(a.shape) == 3:\n",
    "            for i, row in enumerate(transpose):\n",
    "                scaler_values[i] = MinMaxScaler().fit(row) # fit scaler on training data\n",
    "                transpose[i] = scaler_values[i].transform(row)\n",
    "        elif len(a.shape) == 2:\n",
    "            scaler_values = scaler_values[0]\n",
    "            transpose = scaler_values.transform(transpose) # fit scaler on training data\n",
    "        else:\n",
    "            print(\"Scale Shape Error.\")\n",
    "            print(len(a.shape))\n",
    "            \n",
    "        return np.asarray(transpose.T), scaler_values\n",
    "    \n",
    "    scaled, scaler_values = scale(array, scaler_values)\n",
    "    descaled = descale(scaled, scaler_values)\n",
    "    \n",
    "    return scaled, descaled, scaler_values\n",
    "\n",
    "\n",
    "scaled_x, descaled_x, scaler_values_x = scaleValues(np.asarray(x), {})\n",
    "scaled_y, descaled_y, scaler_values_y = scaleValues(np.asarray(y), scaler_values_x)"
   ]
  },
  {
   "cell_type": "code",
   "execution_count": 13,
   "id": "17e37bbc",
   "metadata": {},
   "outputs": [
    {
     "data": {
      "image/png": "[encoded data removed]",
      "text/plain": [
       "<Figure size 432x288 with 1 Axes>"
      ]
     },
     "metadata": {
      "needs_background": "light"
     },
     "output_type": "display_data"
    }
   ],
   "source": [
    "import matplotlib.pyplot as plt\n",
    "\n",
    "plt.plot(list(range(100)), scaled_x[:100,:1,0].reshape(100,1), label='Scaled Price')\n",
    "\n",
    "plt.legend(loc='upper right')\n",
    "plt.show()"
   ]
  },
  {
   "cell_type": "markdown",
   "id": "d5108c34",
   "metadata": {},
   "source": [
    "### Creating and Training the Model"
   ]
  },
  {
   "cell_type": "code",
   "execution_count": 14,
   "id": "5f9c39b8",
   "metadata": {},
   "outputs": [],
   "source": [
    "# This splits our data into train and test sets without shuffling them\n",
    "train_data, test_data, train_labels, test_labels = train_test_split(scaled_x, scaled_y, test_size=0.2, shuffle=False)\n",
    "_, _, descaled_train_labels, descaled_test_labels = train_test_split(descaled_x, descaled_y, test_size=0.2, shuffle=False)"
   ]
  },
  {
   "cell_type": "code",
   "execution_count": 15,
   "id": "18e35bc5",
   "metadata": {},
   "outputs": [
    {
     "name": "stdout",
     "output_type": "stream",
     "text": [
      "Model: \"sequential\"\n",
      "_________________________________________________________________\n",
      "Layer (type)                 Output Shape              Param #   \n",
      "=================================================================\n",
      "dropout (Dropout)            (None, 50, 18)            0         \n",
      "_________________________________________________________________\n",
      "batch_normalization (BatchNo (None, 50, 18)            72        \n",
      "_________________________________________________________________\n",
      "bidirectional (Bidirectional (None, 50, 36)            5328      \n",
      "_________________________________________________________________\n",
      "bidirectional_1 (Bidirection (None, 36)                7920      \n",
      "_________________________________________________________________\n",
      "dense (Dense)                (None, 36)                1332      \n",
      "_________________________________________________________________\n",
      "dense_1 (Dense)              (None, 18)                666       \n",
      "_________________________________________________________________\n",
      "dense_2 (Dense)              (None, 1)                 19        \n",
      "=================================================================\n",
      "Total params: 15,337\n",
      "Trainable params: 15,301\n",
      "Non-trainable params: 36\n",
      "_________________________________________________________________\n",
      "Epoch 1/1000\n",
      "1/1 [==============================] - 12s 12s/step - loss: 0.3872 - mean_squared_error: 0.3872 - val_loss: 0.4681 - val_mean_squared_error: 0.4681\n",
      "Epoch 2/1000\n",
      "1/1 [==============================] - 0s 214ms/step - loss: 0.3195 - mean_squared_error: 0.3195 - val_loss: 0.4268 - val_mean_squared_error: 0.4268\n",
      "Epoch 3/1000\n",
      "1/1 [==============================] - 0s 105ms/step - loss: 0.2638 - mean_squared_error: 0.2638 - val_loss: 0.3856 - val_mean_squared_error: 0.3856\n",
      "Epoch 4/1000\n",
      "1/1 [==============================] - 0s 54ms/step - loss: 0.2195 - mean_squared_error: 0.2195 - val_loss: 0.3448 - val_mean_squared_error: 0.3448\n",
      "Epoch 5/1000\n",
      "1/1 [==============================] - 0s 52ms/step - loss: 0.1805 - mean_squared_error: 0.1805 - val_loss: 0.3051 - val_mean_squared_error: 0.3051\n",
      "Epoch 995/1000\n",
      "1/1 [==============================] - 0s 52ms/step - loss: 0.0334 - mean_squared_error: 0.0334 - val_loss: 0.0398 - val_mean_squared_error: 0.0398\n",
      "Epoch 996/1000\n",
      "1/1 [==============================] - 0s 52ms/step - loss: 0.0337 - mean_squared_error: 0.0337 - val_loss: 0.0409 - val_mean_squared_error: 0.0409\n",
      "Epoch 997/1000\n",
      "1/1 [==============================] - 0s 49ms/step - loss: 0.0342 - mean_squared_error: 0.0342 - val_loss: 0.0404 - val_mean_squared_error: 0.0404\n",
      "Epoch 998/1000\n",
      "1/1 [==============================] - 0s 57ms/step - loss: 0.0337 - mean_squared_error: 0.0337 - val_loss: 0.0387 - val_mean_squared_error: 0.0387\n",
      "Epoch 999/1000\n",
      "1/1 [==============================] - 0s 49ms/step - loss: 0.0340 - mean_squared_error: 0.0340 - val_loss: 0.0376 - val_mean_squared_error: 0.0376\n",
      "Epoch 1000/1000\n",
      "1/1 [==============================] - 0s 53ms/step - loss: 0.0320 - mean_squared_error: 0.0320 - val_loss: 0.0374 - val_mean_squared_error: 0.0374\n",
      "12/12 [==============================] - 0s 8ms/step - loss: 0.0490 - mean_squared_error: 0.0490\n",
      "[0.04895087704062462, 0.04895087704062462]\n"
     ]
    }
   ],
   "source": [
    "from tensorflow.keras.layers import BatchNormalization, LayerNormalization, LSTM, Bidirectional, Dense, \\\n",
    "                                    Flatten, Dropout, Input, TimeDistributed, GRU\n",
    "opt = tf.keras.optimizers.Adam(learning_rate=0.001)\n",
    "model = tf.keras.Sequential()\n",
    "\n",
    "# Input shape\n",
    "model.add(Input(shape=(sample_length, 18))) # 18 features being used\n",
    "\n",
    "# Dropout to Prevent overfitting\n",
    "model.add(Dropout(0.5)) \n",
    "\n",
    "# LSTM and Dense layers\n",
    "model.add(BatchNormalization(axis=2))\n",
    "model.add(Bidirectional(LSTM(18, return_sequences=True)))\n",
    "model.add(Bidirectional(LSTM(18)))\n",
    "model.add(Dense(36, activation=\"elu\"))\n",
    "model.add(Dense(18, activation=\"elu\"))\n",
    "\n",
    "# Output Layer\n",
    "model.add(Dense(1))\n",
    "\n",
    "model.summary()\n",
    "model.compile(optimizer=opt, loss=\"mean_squared_error\", metrics=[\"mean_squared_error\"])\n",
    "\n",
    "fitModel = model.fit( train_data\n",
    "                    , train_labels\n",
    "                    , epochs=1000\n",
    "                    , batch_size=1000\n",
    "                    , shuffle=True\n",
    "                    , validation_split=0.3\n",
    "                    , verbose=1 \n",
    "                    )\n",
    "\n",
    "results = model.evaluate(test_data, test_labels)\n",
    "\n",
    "print(results)"
   ]
  },
  {
   "cell_type": "markdown",
   "id": "b3257f83",
   "metadata": {},
   "source": [
    "## Results\n",
    "\n",
    "The model seems to converge. Let's see how it holds up against our test dataset."
   ]
  },
  {
   "cell_type": "code",
   "execution_count": 16,
   "id": "aa621e15",
   "metadata": {},
   "outputs": [
    {
     "name": "stdout",
     "output_type": "stream",
     "text": [
      "Prediction: [-0.04384753]\n",
      "Actual: [0.13073171]\n"
     ]
    }
   ],
   "source": [
    "n = 0\n",
    "prediction = model.predict(test_data)\n",
    "\n",
    "print(\"Prediction: \" + str(prediction[n]))\n",
    "print(\"Actual: \" + str(test_labels[n]))"
   ]
  },
  {
   "cell_type": "code",
   "execution_count": 18,
   "id": "ddc9a265",
   "metadata": {},
   "outputs": [
    {
     "data": {
      "image/png": "[encoded data removed]",
      "text/plain": [
       "<Figure size 432x288 with 1 Axes>"
      ]
     },
     "metadata": {
      "needs_background": "light"
     },
     "output_type": "display_data"
    }
   ],
   "source": [
    "import matplotlib.pyplot as plt\n",
    "\n",
    "# It's important to remember to descale our data after prediction in order to make sense of the results \n",
    "temp = np.concatenate((train_labels, prediction))\n",
    "temp = descale(temp, scaler_values_y)\n",
    "\n",
    "plt.plot(list(range(len(y)))[-50:], temp[-50:], label='Prediction')\n",
    "plt.plot(list(range(len(y)))[-50:], y[-50:], label='Actual')\n",
    "\n",
    "plt.legend(loc='upper right')\n",
    "plt.title('Prediction Results')\n",
    "plt.ylabel('Price $USD')\n",
    "plt.xlabel('Hours')\n",
    "plt.show()"
   ]
  },
  {
   "cell_type": "markdown",
   "id": "4a379bea",
   "metadata": {},
   "source": [
    "## Analysis\n",
    "\n",
    "It's difficult to come to any conclusion purely based off the graph produced. Remember, we're taking 50 hours of Bitcoin price data and predicting the next 1 hour only. In other words, every datapoint in our Prediction Results graph is a prediction made with 50 hours of price history context; this is why predictions and actual price data match so closely. What we really need to study in order to understand our model's success, is whether the model's sentiment (bullish or bearish) matched the actual price action.\n",
    "\n",
    "In order to do this, we will grade our model based off of good and bad predictions:\n",
    "- Good:\n",
    "    - The model **predicts positive** price movement, actual price movement is **also positive**\n",
    "    - The model **predicts negative** price movement, actual price movement is **also negative**\n",
    "    - The model **predicts neutral** price movement, actual price movement is **also neutral**\n",
    "- Bad:\n",
    "    - The model **predicts positive** price movement, actual price movement is **not positive**\n",
    "    - The model **predicts negative** price movement, actual price movement is **not negative**\n",
    "    - The model **predicts neutral** price movement, actual price movement is **not neutral**\n",
    "    \n",
    "Our model's accuracy will be determined by the rate of good predictions against total predictions."
   ]
  },
  {
   "cell_type": "code",
   "execution_count": 19,
   "id": "35a40f69",
   "metadata": {},
   "outputs": [
    {
     "name": "stdout",
     "output_type": "stream",
     "text": [
      "Predictions: \n",
      "[[21525]\n",
      " [22125]]\n",
      "Actual: \n",
      "tf.Tensor(\n",
      "[[21670]\n",
      " [22167]], shape=(2, 1), dtype=int32)\n"
     ]
    }
   ],
   "source": [
    "# The model is predicting the next timestep given previous timesteps,\n",
    "# so we need to analyze how accurate it is based on each timestep predicted\n",
    "print(\"Predictions: \")\n",
    "print(temp[-2:])\n",
    "print(\"Actual: \")\n",
    "print(y[-2:])"
   ]
  },
  {
   "cell_type": "code",
   "execution_count": 20,
   "id": "b2536c9e",
   "metadata": {},
   "outputs": [
    {
     "name": "stdout",
     "output_type": "stream",
     "text": [
      "Out of data.\n",
      "Out of data.\n"
     ]
    }
   ],
   "source": [
    "# If the next timestep gives us a higher price, we will label it 1 (positive)\n",
    "# If the next timestep gives us a lower price, we will label it -1 (negative)\n",
    "# Otherwise 0 (neutral)\n",
    "\n",
    "predictions = temp[-len(prediction):]\n",
    "actual = y[-len(prediction):]\n",
    "\n",
    "prediction_analysis = []\n",
    "for i, timestep in enumerate(predictions):\n",
    "    try:\n",
    "        if predictions[i+1] > predictions[i]:\n",
    "            prediction_analysis.append(1)\n",
    "        elif predictions[i+1] < predictions[i]:\n",
    "            prediction_analysis.append(-1)\n",
    "        else:\n",
    "            print(\"Zero.\")\n",
    "            prediction_analysis.append(0)\n",
    "    except:\n",
    "        print(\"Out of data.\")\n",
    "        \n",
    "actual_analysis = []\n",
    "for i, timestep in enumerate(actual):\n",
    "    try:\n",
    "        if actual[i+1] > actual[i]:\n",
    "            actual_analysis.append(1)\n",
    "        elif actual[i+1] < actual[i]:\n",
    "            actual_analysis.append(-1)\n",
    "        else:\n",
    "            print(\"Zero.\")\n",
    "            actual_analysis.append(0)\n",
    "    except:\n",
    "        print(\"Out of data.\")"
   ]
  },
  {
   "cell_type": "code",
   "execution_count": 21,
   "id": "973b4c86",
   "metadata": {},
   "outputs": [
    {
     "name": "stdout",
     "output_type": "stream",
     "text": [
      "Good predictions: 290\n",
      "Bad predictions: 62\n",
      "Accuracy: 82.38636363636364%\n"
     ]
    }
   ],
   "source": [
    "good = 0\n",
    "bad = 0\n",
    "for i in range(len(prediction_analysis)):\n",
    "    if actual_analysis[i] == prediction_analysis[i]:\n",
    "        good += 1\n",
    "    else:\n",
    "        bad += 1\n",
    "print(\"Good predictions: \" + str(good))\n",
    "print(\"Bad predictions: \" + str(bad))\n",
    "print(\"Accuracy: \" + str(good/(good+bad)*100) + \"%\")"
   ]
  },
  {
   "cell_type": "code",
   "execution_count": 22,
   "id": "b029a635",
   "metadata": {},
   "outputs": [
    {
     "name": "stderr",
     "output_type": "stream",
     "text": [
      "WARNING:absl:Found untraced functions such as lstm_cell_1_layer_call_and_return_conditional_losses, lstm_cell_1_layer_call_fn, lstm_cell_2_layer_call_and_return_conditional_losses, lstm_cell_2_layer_call_fn, lstm_cell_4_layer_call_and_return_conditional_losses while saving (showing 5 of 20). These functions will not be directly callable after loading.\n"
     ]
    },
    {
     "name": "stdout",
     "output_type": "stream",
     "text": [
      "INFO:tensorflow:Assets written to: BTCPriceModel\\assets\n"
     ]
    },
    {
     "name": "stderr",
     "output_type": "stream",
     "text": [
      "INFO:tensorflow:Assets written to: BTCPriceModel\\assets\n"
     ]
    }
   ],
   "source": [
    "model.save('BTCPriceModel')"
   ]
  }
 ],
 "metadata": {
  "kernelspec": {
   "display_name": "Python 3 (ipykernel)",
   "language": "python",
   "name": "python3"
  },
  "language_info": {
   "codemirror_mode": {
    "name": "ipython",
    "version": 3
   },
   "file_extension": ".py",
   "mimetype": "text/x-python",
   "name": "python",
   "nbconvert_exporter": "python",
   "pygments_lexer": "ipython3",
   "version": "3.9.12"
  }
 },
 "nbformat": 4,
 "nbformat_minor": 5
}
